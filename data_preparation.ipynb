{
 "cells": [
  {
   "cell_type": "code",
   "execution_count": 40,
   "metadata": {},
   "outputs": [],
   "source": [
    "import pandas as pd"
   ]
  },
  {
   "cell_type": "code",
   "execution_count": 41,
   "metadata": {},
   "outputs": [
    {
     "data": {
      "text/html": [
       "<div>\n",
       "<style scoped>\n",
       "    .dataframe tbody tr th:only-of-type {\n",
       "        vertical-align: middle;\n",
       "    }\n",
       "\n",
       "    .dataframe tbody tr th {\n",
       "        vertical-align: top;\n",
       "    }\n",
       "\n",
       "    .dataframe thead th {\n",
       "        text-align: right;\n",
       "    }\n",
       "</style>\n",
       "<table border=\"1\" class=\"dataframe\">\n",
       "  <thead>\n",
       "    <tr style=\"text-align: right;\">\n",
       "      <th></th>\n",
       "      <th>Model</th>\n",
       "      <th>Screen Size</th>\n",
       "      <th>Refresh Rate</th>\n",
       "      <th>Resolution</th>\n",
       "      <th>Processor</th>\n",
       "      <th>Graphics Card</th>\n",
       "      <th>RAM</th>\n",
       "      <th>Storage</th>\n",
       "      <th>Price</th>\n",
       "      <th>Images</th>\n",
       "      <th>Link</th>\n",
       "    </tr>\n",
       "  </thead>\n",
       "  <tbody>\n",
       "    <tr>\n",
       "      <th>0</th>\n",
       "      <td>MSI VECTOR 16 HX</td>\n",
       "      <td>16.0</td>\n",
       "      <td>144.0</td>\n",
       "      <td>1920x1200</td>\n",
       "      <td>Intel Core Ultra 7-255HX</td>\n",
       "      <td>NVIDIA RTX 5070 Ti 12GB</td>\n",
       "      <td>16GB DDR5</td>\n",
       "      <td>512GB NVMe SSD</td>\n",
       "      <td>2120</td>\n",
       "      <td>https://instagram.ffru2-1.fna.fbcdn.net/v/t51....</td>\n",
       "      <td>https://www.instagram.com/p/DJnsLf4o5Pf/?img_i...</td>\n",
       "    </tr>\n",
       "    <tr>\n",
       "      <th>1</th>\n",
       "      <td>ASUS ROG STRIX G16</td>\n",
       "      <td>16.0</td>\n",
       "      <td>240.0</td>\n",
       "      <td>2560x1600</td>\n",
       "      <td>Intel Core i9-13980HX</td>\n",
       "      <td>NVIDIA RTX 4070 8GB</td>\n",
       "      <td>16GB DDR5</td>\n",
       "      <td>1000GB NVMe SSD</td>\n",
       "      <td>1890</td>\n",
       "      <td>https://instagram.ffru2-1.fna.fbcdn.net/v/t51....</td>\n",
       "      <td>https://www.instagram.com/p/DJnqqy0oyVy/?img_i...</td>\n",
       "    </tr>\n",
       "    <tr>\n",
       "      <th>2</th>\n",
       "      <td>MSI THIN 15 2025</td>\n",
       "      <td>15.6</td>\n",
       "      <td>144.0</td>\n",
       "      <td>1920x1080</td>\n",
       "      <td>Intel Core i5-13420H</td>\n",
       "      <td>NVIDIA RTX 4060 8GB</td>\n",
       "      <td>16 DDR4</td>\n",
       "      <td>512GB NVMe SSD</td>\n",
       "      <td>1050</td>\n",
       "      <td>https://instagram.ffru2-1.fna.fbcdn.net/v/t51....</td>\n",
       "      <td>https://www.instagram.com/p/DIiggUXIvQf/?img_i...</td>\n",
       "    </tr>\n",
       "    <tr>\n",
       "      <th>3</th>\n",
       "      <td>ACER NITRO V15 2025</td>\n",
       "      <td>15.6</td>\n",
       "      <td>144.0</td>\n",
       "      <td>1920x1080</td>\n",
       "      <td>Intel Core i7-13620H</td>\n",
       "      <td>NVIDIA RTX 4060 8GB</td>\n",
       "      <td>16 DDR5</td>\n",
       "      <td>512GB NVMe SSD</td>\n",
       "      <td>1150</td>\n",
       "      <td>https://instagram.ffru2-1.fna.fbcdn.net/v/t51....</td>\n",
       "      <td>https://www.instagram.com/p/DIifIeCITTa/?img_i...</td>\n",
       "    </tr>\n",
       "    <tr>\n",
       "      <th>4</th>\n",
       "      <td>ASUS ROG ZEPHYRUS G16</td>\n",
       "      <td>16.0</td>\n",
       "      <td>240.0</td>\n",
       "      <td>2560x1600</td>\n",
       "      <td>AMD Ryzen AI 9 HX</td>\n",
       "      <td>NVIDIA RTX 4060 8GB</td>\n",
       "      <td>16 DDR5</td>\n",
       "      <td>1000GB NVMe SSD</td>\n",
       "      <td>1990</td>\n",
       "      <td>https://instagram.ffru2-1.fna.fbcdn.net/v/t51....</td>\n",
       "      <td>https://www.instagram.com/p/DIid8y_IMR1/?img_i...</td>\n",
       "    </tr>\n",
       "  </tbody>\n",
       "</table>\n",
       "</div>"
      ],
      "text/plain": [
       "                   Model  Screen Size  Refresh Rate Resolution  \\\n",
       "0       MSI VECTOR 16 HX         16.0         144.0  1920x1200   \n",
       "1     ASUS ROG STRIX G16         16.0         240.0  2560x1600   \n",
       "2       MSI THIN 15 2025         15.6         144.0  1920x1080   \n",
       "3    ACER NITRO V15 2025         15.6         144.0  1920x1080   \n",
       "4  ASUS ROG ZEPHYRUS G16         16.0         240.0  2560x1600   \n",
       "\n",
       "                  Processor            Graphics Card        RAM  \\\n",
       "0  Intel Core Ultra 7-255HX  NVIDIA RTX 5070 Ti 12GB  16GB DDR5   \n",
       "1     Intel Core i9-13980HX      NVIDIA RTX 4070 8GB  16GB DDR5   \n",
       "2      Intel Core i5-13420H      NVIDIA RTX 4060 8GB    16 DDR4   \n",
       "3      Intel Core i7-13620H      NVIDIA RTX 4060 8GB    16 DDR5   \n",
       "4         AMD Ryzen AI 9 HX      NVIDIA RTX 4060 8GB    16 DDR5   \n",
       "\n",
       "           Storage  Price                                             Images  \\\n",
       "0   512GB NVMe SSD   2120  https://instagram.ffru2-1.fna.fbcdn.net/v/t51....   \n",
       "1  1000GB NVMe SSD   1890  https://instagram.ffru2-1.fna.fbcdn.net/v/t51....   \n",
       "2   512GB NVMe SSD   1050  https://instagram.ffru2-1.fna.fbcdn.net/v/t51....   \n",
       "3   512GB NVMe SSD   1150  https://instagram.ffru2-1.fna.fbcdn.net/v/t51....   \n",
       "4  1000GB NVMe SSD   1990  https://instagram.ffru2-1.fna.fbcdn.net/v/t51....   \n",
       "\n",
       "                                                Link  \n",
       "0  https://www.instagram.com/p/DJnsLf4o5Pf/?img_i...  \n",
       "1  https://www.instagram.com/p/DJnqqy0oyVy/?img_i...  \n",
       "2  https://www.instagram.com/p/DIiggUXIvQf/?img_i...  \n",
       "3  https://www.instagram.com/p/DIifIeCITTa/?img_i...  \n",
       "4  https://www.instagram.com/p/DIid8y_IMR1/?img_i...  "
      ]
     },
     "execution_count": 41,
     "metadata": {},
     "output_type": "execute_result"
    }
   ],
   "source": [
    "df = pd.read_csv('data.csv')\n",
    "df.head()"
   ]
  },
  {
   "cell_type": "code",
   "execution_count": 42,
   "metadata": {},
   "outputs": [],
   "source": [
    "df['Refresh Rate'] = df['Refresh Rate'].apply(lambda x: 60 if pd.isna(x) or str(x).strip() == '' else x)\n",
    "df['Refresh Rate'] = df['Refresh Rate'].astype(int)"
   ]
  },
  {
   "cell_type": "code",
   "execution_count": 43,
   "metadata": {},
   "outputs": [],
   "source": [
    "df['Screen Size'] = df['Screen Size'].apply(lambda x: str(int(x)) if float(x).is_integer() else str(x))"
   ]
  },
  {
   "cell_type": "code",
   "execution_count": 44,
   "metadata": {},
   "outputs": [
    {
     "data": {
      "text/plain": [
       "Model            object\n",
       "Screen Size      object\n",
       "Refresh Rate      int64\n",
       "Resolution       object\n",
       "Processor        object\n",
       "Graphics Card    object\n",
       "RAM              object\n",
       "Storage          object\n",
       "Price             int64\n",
       "Images           object\n",
       "Link             object\n",
       "dtype: object"
      ]
     },
     "execution_count": 44,
     "metadata": {},
     "output_type": "execute_result"
    }
   ],
   "source": [
    "df.dtypes"
   ]
  },
  {
   "cell_type": "code",
   "execution_count": 45,
   "metadata": {},
   "outputs": [],
   "source": [
    "df.to_csv(\"corrected_data.csv\", index=False)"
   ]
  }
 ],
 "metadata": {
  "kernelspec": {
   "display_name": "Python 3",
   "language": "python",
   "name": "python3"
  },
  "language_info": {
   "codemirror_mode": {
    "name": "ipython",
    "version": 3
   },
   "file_extension": ".py",
   "mimetype": "text/x-python",
   "name": "python",
   "nbconvert_exporter": "python",
   "pygments_lexer": "ipython3",
   "version": "3.11.5"
  }
 },
 "nbformat": 4,
 "nbformat_minor": 2
}
